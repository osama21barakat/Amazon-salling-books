{
 "cells": [
  {
   "cell_type": "markdown",
   "id": "a48885ee",
   "metadata": {
    "papermill": {
     "duration": 0.004277,
     "end_time": "2022-09-20T16:32:32.853883",
     "exception": false,
     "start_time": "2022-09-20T16:32:32.849606",
     "status": "completed"
    },
    "tags": []
   },
   "source": [
    "# Conclusion for my analysis\n"
   ]
  },
  {
   "cell_type": "code",
   "execution_count": 1,
   "id": "9400cd72",
   "metadata": {
    "_cell_guid": "b1076dfc-b9ad-4769-8c92-a6c4dae69d19",
    "_uuid": "8f2839f25d086af736a60e9eeb907d3b93b6e0e5",
    "execution": {
     "iopub.execute_input": "2022-09-20T16:32:32.863041Z",
     "iopub.status.busy": "2022-09-20T16:32:32.861781Z",
     "iopub.status.idle": "2022-09-20T16:32:32.900604Z",
     "shell.execute_reply": "2022-09-20T16:32:32.899491Z"
    },
    "papermill": {
     "duration": 0.046367,
     "end_time": "2022-09-20T16:32:32.903493",
     "exception": false,
     "start_time": "2022-09-20T16:32:32.857126",
     "status": "completed"
    },
    "tags": []
   },
   "outputs": [],
   "source": [
    "import pandas as pd\n",
    "import numpy as np\n",
    "import matplotlib.pyplot as plt\n",
    "\n",
    "\n",
    "pd.set_option(\"display.max_columns\",20)\n",
    "pd.set_option(\"display.max_rows\",20000)\n",
    "\n",
    "df = pd.read_csv(\"../input/top-50-bestselling-novels-20092021-of-amazon/Amazon Top 50 Books 2009-2021 - Reworked Sheet (1).csv\")\n"
   ]
  },
  {
   "cell_type": "code",
   "execution_count": 2,
   "id": "5e73be6a",
   "metadata": {
    "execution": {
     "iopub.execute_input": "2022-09-20T16:32:32.911504Z",
     "iopub.status.busy": "2022-09-20T16:32:32.910894Z",
     "iopub.status.idle": "2022-09-20T16:32:32.931531Z",
     "shell.execute_reply": "2022-09-20T16:32:32.930448Z"
    },
    "papermill": {
     "duration": 0.027427,
     "end_time": "2022-09-20T16:32:32.934115",
     "exception": false,
     "start_time": "2022-09-20T16:32:32.906688",
     "status": "completed"
    },
    "tags": []
   },
   "outputs": [],
   "source": [
    "# Data Cleaning\n",
    "df.columns = df.columns.str.replace(\" \",\"_\")\n",
    "df.Genre = df.Genre.replace('\\s+', '_', regex=True)\n",
    "df.Reviews = df.Reviews.replace(',', '', regex=True)\n",
    "df['Price'] = df['Price'].str.strip('$')\n",
    "df['Price_r'] = df['Price_r'].str.strip('$')\n",
    "df['Reviews'] = df['Reviews'].astype('int')\n",
    "df['Price'] = df['Price'].astype('float')\n",
    "df['Price_r'] = df['Price_r'].astype('int')\n",
    "\n"
   ]
  },
  {
   "cell_type": "code",
   "execution_count": 3,
   "id": "fb1795c6",
   "metadata": {
    "execution": {
     "iopub.execute_input": "2022-09-20T16:32:32.941507Z",
     "iopub.status.busy": "2022-09-20T16:32:32.941186Z",
     "iopub.status.idle": "2022-09-20T16:32:33.359161Z",
     "shell.execute_reply": "2022-09-20T16:32:33.358098Z"
    },
    "papermill": {
     "duration": 0.424244,
     "end_time": "2022-09-20T16:32:33.361489",
     "exception": false,
     "start_time": "2022-09-20T16:32:32.937245",
     "status": "completed"
    },
    "tags": []
   },
   "outputs": [
    {
     "data": {
      "image/png": "[encoded data removed]",
      "text/plain": [
       "<Figure size 432x288 with 1 Axes>"
      ]
     },
     "metadata": {
      "needs_background": "light"
     },
     "output_type": "display_data"
    }
   ],
   "source": [
    "fig, ax= plt.subplots()\n",
    "df1 = pd.DataFrame()\n",
    "i=2009\n",
    "while i <=2021:\n",
    "    df1[str(i)] = df[df[\"Year\"]==i].Genre.value_counts()\n",
    "    i+=1\n",
    "df1 = df1.T.sort_values(\"Non_Fiction\",ascending=True)\n",
    "\n",
    "fiction = ax.scatter( df1.Fiction,df1.index,20, label=\"Fiction\")\n",
    "non_fiction = ax.scatter( df1.Non_Fiction,df1.index,20, label=\"Non_Fiction\")\n",
    "ax.set_ylabel('The years')\n",
    "ax.set_xlabel('Number of novels')\n",
    "ax.set_title('Number of Genre for both types of novels in all years')\n",
    "fig.tight_layout()\n",
    "ax.legend()\n",
    "plt.show()\n"
   ]
  },
  {
   "cell_type": "code",
   "execution_count": 4,
   "id": "ba153e1d",
   "metadata": {
    "execution": {
     "iopub.execute_input": "2022-09-20T16:32:33.370202Z",
     "iopub.status.busy": "2022-09-20T16:32:33.369488Z",
     "iopub.status.idle": "2022-09-20T16:32:33.393625Z",
     "shell.execute_reply": "2022-09-20T16:32:33.392512Z"
    },
    "papermill": {
     "duration": 0.030837,
     "end_time": "2022-09-20T16:32:33.395927",
     "exception": false,
     "start_time": "2022-09-20T16:32:33.365090",
     "status": "completed"
    },
    "tags": []
   },
   "outputs": [
    {
     "data": {
      "text/html": [
       "<div>\n",
       "<style scoped>\n",
       "    .dataframe tbody tr th:only-of-type {\n",
       "        vertical-align: middle;\n",
       "    }\n",
       "\n",
       "    .dataframe tbody tr th {\n",
       "        vertical-align: top;\n",
       "    }\n",
       "\n",
       "    .dataframe thead th {\n",
       "        text-align: right;\n",
       "    }\n",
       "</style>\n",
       "<table border=\"1\" class=\"dataframe\">\n",
       "  <thead>\n",
       "    <tr style=\"text-align: right;\">\n",
       "      <th></th>\n",
       "      <th>Name</th>\n",
       "      <th>Author</th>\n",
       "      <th>User_Rating</th>\n",
       "      <th>Reviews</th>\n",
       "      <th>Price</th>\n",
       "      <th>Price_r</th>\n",
       "      <th>Year</th>\n",
       "      <th>Genre</th>\n",
       "      <th>People_Who_liked_the_novel</th>\n",
       "      <th>People_Who_disliked_the_novel</th>\n",
       "    </tr>\n",
       "  </thead>\n",
       "  <tbody>\n",
       "    <tr>\n",
       "      <th>0</th>\n",
       "      <td>10-Day Green Smoothie Cleanse</td>\n",
       "      <td>JJ Smith</td>\n",
       "      <td>4.7</td>\n",
       "      <td>17350</td>\n",
       "      <td>8.00</td>\n",
       "      <td>8</td>\n",
       "      <td>2016</td>\n",
       "      <td>Non_Fiction</td>\n",
       "      <td>16309.0</td>\n",
       "      <td>1041.0</td>\n",
       "    </tr>\n",
       "    <tr>\n",
       "      <th>1</th>\n",
       "      <td>11/22/63: A Novel</td>\n",
       "      <td>Stephen King</td>\n",
       "      <td>4.6</td>\n",
       "      <td>2052</td>\n",
       "      <td>22.00</td>\n",
       "      <td>22</td>\n",
       "      <td>2011</td>\n",
       "      <td>Fiction</td>\n",
       "      <td>1888.0</td>\n",
       "      <td>164.0</td>\n",
       "    </tr>\n",
       "    <tr>\n",
       "      <th>2</th>\n",
       "      <td>12 Rules for Life: An Antidote to Chaos</td>\n",
       "      <td>Jordan B. Peterson</td>\n",
       "      <td>4.7</td>\n",
       "      <td>18979</td>\n",
       "      <td>15.00</td>\n",
       "      <td>15</td>\n",
       "      <td>2018</td>\n",
       "      <td>Non_Fiction</td>\n",
       "      <td>17840.0</td>\n",
       "      <td>1139.0</td>\n",
       "    </tr>\n",
       "    <tr>\n",
       "      <th>3</th>\n",
       "      <td>1984</td>\n",
       "      <td>George Orwell</td>\n",
       "      <td>4.7</td>\n",
       "      <td>70425</td>\n",
       "      <td>7.48</td>\n",
       "      <td>8</td>\n",
       "      <td>2021</td>\n",
       "      <td>Fiction</td>\n",
       "      <td>66200.0</td>\n",
       "      <td>4225.0</td>\n",
       "    </tr>\n",
       "    <tr>\n",
       "      <th>4</th>\n",
       "      <td>1984 (Signet Classics)</td>\n",
       "      <td>George Orwell</td>\n",
       "      <td>4.7</td>\n",
       "      <td>21424</td>\n",
       "      <td>6.00</td>\n",
       "      <td>6</td>\n",
       "      <td>2017</td>\n",
       "      <td>Fiction</td>\n",
       "      <td>20139.0</td>\n",
       "      <td>1285.0</td>\n",
       "    </tr>\n",
       "  </tbody>\n",
       "</table>\n",
       "</div>"
      ],
      "text/plain": [
       "                                      Name              Author  User_Rating  \\\n",
       "0            10-Day Green Smoothie Cleanse            JJ Smith          4.7   \n",
       "1                        11/22/63: A Novel        Stephen King          4.6   \n",
       "2  12 Rules for Life: An Antidote to Chaos  Jordan B. Peterson          4.7   \n",
       "3                                     1984       George Orwell          4.7   \n",
       "4                   1984 (Signet Classics)       George Orwell          4.7   \n",
       "\n",
       "   Reviews  Price  Price_r  Year        Genre  People_Who_liked_the_novel  \\\n",
       "0    17350   8.00        8  2016  Non_Fiction                     16309.0   \n",
       "1     2052  22.00       22  2011      Fiction                      1888.0   \n",
       "2    18979  15.00       15  2018  Non_Fiction                     17840.0   \n",
       "3    70425   7.48        8  2021      Fiction                     66200.0   \n",
       "4    21424   6.00        6  2017      Fiction                     20139.0   \n",
       "\n",
       "   People_Who_disliked_the_novel  \n",
       "0                         1041.0  \n",
       "1                          164.0  \n",
       "2                         1139.0  \n",
       "3                         4225.0  \n",
       "4                         1285.0  "
      ]
     },
     "execution_count": 4,
     "metadata": {},
     "output_type": "execute_result"
    }
   ],
   "source": [
    "soy =[]\n",
    "for i in df.User_Rating:\n",
    "    soy.append(round((i/5),2))\n",
    "df[\"People_Who_liked_the_novel\"] = round(soy*df.Reviews)\n",
    "df[\"People_Who_disliked_the_novel\"] = (df.Reviews) - (round(soy*df.Reviews))\n",
    "\n",
    "df.head()\n"
   ]
  },
  {
   "cell_type": "code",
   "execution_count": 5,
   "id": "854ba93f",
   "metadata": {
    "execution": {
     "iopub.execute_input": "2022-09-20T16:32:33.404922Z",
     "iopub.status.busy": "2022-09-20T16:32:33.404562Z",
     "iopub.status.idle": "2022-09-20T16:32:33.443967Z",
     "shell.execute_reply": "2022-09-20T16:32:33.443230Z"
    },
    "papermill": {
     "duration": 0.046377,
     "end_time": "2022-09-20T16:32:33.446135",
     "exception": false,
     "start_time": "2022-09-20T16:32:33.399758",
     "status": "completed"
    },
    "tags": []
   },
   "outputs": [
    {
     "data": {
      "text/html": [
       "<div>\n",
       "<style scoped>\n",
       "    .dataframe tbody tr th:only-of-type {\n",
       "        vertical-align: middle;\n",
       "    }\n",
       "\n",
       "    .dataframe tbody tr th {\n",
       "        vertical-align: top;\n",
       "    }\n",
       "\n",
       "    .dataframe thead th {\n",
       "        text-align: right;\n",
       "    }\n",
       "</style>\n",
       "<table border=\"1\" class=\"dataframe\">\n",
       "  <thead>\n",
       "    <tr style=\"text-align: right;\">\n",
       "      <th></th>\n",
       "      <th>Name</th>\n",
       "      <th>Author</th>\n",
       "      <th>User_Rating</th>\n",
       "      <th>Reviews</th>\n",
       "      <th>Price</th>\n",
       "      <th>Price_r</th>\n",
       "      <th>Year</th>\n",
       "      <th>Genre</th>\n",
       "      <th>People_Who_liked_the_novel</th>\n",
       "      <th>People_Who_disliked_the_novel</th>\n",
       "    </tr>\n",
       "  </thead>\n",
       "  <tbody>\n",
       "    <tr>\n",
       "      <th>0</th>\n",
       "      <td>10-Day Green Smoothie Cleanse</td>\n",
       "      <td>JJ Smith</td>\n",
       "      <td>4.7</td>\n",
       "      <td>17350</td>\n",
       "      <td>8.00</td>\n",
       "      <td>8</td>\n",
       "      <td>2016</td>\n",
       "      <td>Non_Fiction</td>\n",
       "      <td>16309.0</td>\n",
       "      <td>1041.0</td>\n",
       "    </tr>\n",
       "    <tr>\n",
       "      <th>1</th>\n",
       "      <td>11/22/63: A Novel</td>\n",
       "      <td>Stephen King</td>\n",
       "      <td>4.6</td>\n",
       "      <td>2052</td>\n",
       "      <td>22.00</td>\n",
       "      <td>22</td>\n",
       "      <td>2011</td>\n",
       "      <td>Fiction</td>\n",
       "      <td>1888.0</td>\n",
       "      <td>164.0</td>\n",
       "    </tr>\n",
       "    <tr>\n",
       "      <th>2</th>\n",
       "      <td>12 Rules for Life: An Antidote to Chaos</td>\n",
       "      <td>Jordan B. Peterson</td>\n",
       "      <td>4.7</td>\n",
       "      <td>18979</td>\n",
       "      <td>15.00</td>\n",
       "      <td>15</td>\n",
       "      <td>2018</td>\n",
       "      <td>Non_Fiction</td>\n",
       "      <td>17840.0</td>\n",
       "      <td>1139.0</td>\n",
       "    </tr>\n",
       "    <tr>\n",
       "      <th>3</th>\n",
       "      <td>1984</td>\n",
       "      <td>George Orwell</td>\n",
       "      <td>4.7</td>\n",
       "      <td>70425</td>\n",
       "      <td>7.48</td>\n",
       "      <td>8</td>\n",
       "      <td>2021</td>\n",
       "      <td>Fiction</td>\n",
       "      <td>66200.0</td>\n",
       "      <td>4225.0</td>\n",
       "    </tr>\n",
       "    <tr>\n",
       "      <th>4</th>\n",
       "      <td>1984 (Signet Classics)</td>\n",
       "      <td>George Orwell</td>\n",
       "      <td>4.7</td>\n",
       "      <td>21424</td>\n",
       "      <td>6.00</td>\n",
       "      <td>6</td>\n",
       "      <td>2017</td>\n",
       "      <td>Fiction</td>\n",
       "      <td>20139.0</td>\n",
       "      <td>1285.0</td>\n",
       "    </tr>\n",
       "  </tbody>\n",
       "</table>\n",
       "</div>"
      ],
      "text/plain": [
       "                                      Name              Author  User_Rating  \\\n",
       "0            10-Day Green Smoothie Cleanse            JJ Smith          4.7   \n",
       "1                        11/22/63: A Novel        Stephen King          4.6   \n",
       "2  12 Rules for Life: An Antidote to Chaos  Jordan B. Peterson          4.7   \n",
       "3                                     1984       George Orwell          4.7   \n",
       "4                   1984 (Signet Classics)       George Orwell          4.7   \n",
       "\n",
       "   Reviews  Price  Price_r  Year        Genre  People_Who_liked_the_novel  \\\n",
       "0    17350   8.00        8  2016  Non_Fiction                     16309.0   \n",
       "1     2052  22.00       22  2011      Fiction                      1888.0   \n",
       "2    18979  15.00       15  2018  Non_Fiction                     17840.0   \n",
       "3    70425   7.48        8  2021      Fiction                     66200.0   \n",
       "4    21424   6.00        6  2017      Fiction                     20139.0   \n",
       "\n",
       "   People_Who_disliked_the_novel  \n",
       "0                         1041.0  \n",
       "1                          164.0  \n",
       "2                         1139.0  \n",
       "3                         4225.0  \n",
       "4                         1285.0  "
      ]
     },
     "execution_count": 5,
     "metadata": {},
     "output_type": "execute_result"
    }
   ],
   "source": [
    "res = df[df[\"Year\"]==2009]\n",
    "df2009 = res[res[\"People_Who_liked_the_novel\"]== res.People_Who_liked_the_novel.max()]\n",
    "res = df[df[\"Year\"]==2010]\n",
    "df2010 = res[res[\"People_Who_liked_the_novel\"]== res.People_Who_liked_the_novel.max()]\n",
    "res = df[df[\"Year\"]==2011]\n",
    "df2011 = res[res[\"People_Who_liked_the_novel\"]== res.People_Who_liked_the_novel.max()]\n",
    "res = df[df[\"Year\"]==2012]\n",
    "df2012 = res[res[\"People_Who_liked_the_novel\"]== res.People_Who_liked_the_novel.max()]\n",
    "res = df[df[\"Year\"]==2013]\n",
    "df2013 = res[res[\"People_Who_liked_the_novel\"]== res.People_Who_liked_the_novel.max()]\n",
    "res = df[df[\"Year\"]==2014]\n",
    "df2014 = res[res[\"People_Who_liked_the_novel\"]== res.People_Who_liked_the_novel.max()]\n",
    "res = df[df[\"Year\"]==2015]\n",
    "df2015 = res[res[\"People_Who_liked_the_novel\"]== res.People_Who_liked_the_novel.max()]\n",
    "res = df[df[\"Year\"]==2016]\n",
    "df2016 = res[res[\"People_Who_liked_the_novel\"]== res.People_Who_liked_the_novel.max()]\n",
    "res = df[df[\"Year\"]==2017]\n",
    "df2017 = res[res[\"People_Who_liked_the_novel\"]== res.People_Who_liked_the_novel.max()]\n",
    "res = df[df[\"Year\"]==2018]\n",
    "df2018 = res[res[\"People_Who_liked_the_novel\"]== res.People_Who_liked_the_novel.max()]\n",
    "res = df[df[\"Year\"]==2019]\n",
    "df2019 = res[res[\"People_Who_liked_the_novel\"]== res.People_Who_liked_the_novel.max()]\n",
    "res = df[df[\"Year\"]==2020]\n",
    "df2020 = res[res[\"People_Who_liked_the_novel\"]== res.People_Who_liked_the_novel.max()]\n",
    "res = df[df[\"Year\"]==2021]\n",
    "df2021 = res[res[\"People_Who_liked_the_novel\"]== res.People_Who_liked_the_novel.max()]\n",
    "\n",
    "\n",
    "df.head()"
   ]
  },
  {
   "cell_type": "code",
   "execution_count": 6,
   "id": "78d91c7e",
   "metadata": {
    "execution": {
     "iopub.execute_input": "2022-09-20T16:32:33.455790Z",
     "iopub.status.busy": "2022-09-20T16:32:33.455044Z",
     "iopub.status.idle": "2022-09-20T16:32:33.471270Z",
     "shell.execute_reply": "2022-09-20T16:32:33.470302Z"
    },
    "papermill": {
     "duration": 0.024406,
     "end_time": "2022-09-20T16:32:33.474543",
     "exception": false,
     "start_time": "2022-09-20T16:32:33.450137",
     "status": "completed"
    },
    "tags": []
   },
   "outputs": [
    {
     "name": "stdout",
     "output_type": "stream",
     "text": [
      "18142.0\n",
      "18142.0\n",
      "30195.0\n",
      "30195.0\n",
      "30195.0\n",
      "30195.0\n",
      "30195.0\n",
      "30195.0\n",
      "47453.0\n",
      "47453.0\n",
      "47453.0\n",
      "47453.0\n",
      "47453.0\n",
      "47453.0\n",
      "47453.0\n",
      "47453.0\n",
      "47453.0\n",
      "47453.0\n",
      "47453.0\n",
      "47453.0\n",
      "65146.0\n",
      "65146.0\n",
      "65146.0\n",
      "65146.0\n",
      "25320.0\n",
      "58688.0\n",
      "58688.0\n",
      "84327.0\n",
      "115898.0\n"
     ]
    }
   ],
   "source": [
    "for i in range(2009,2021):\n",
    "    n = df[df[\"Year\"]==i].People_Who_liked_the_novel.max()\n",
    "    for j in df.People_Who_liked_the_novel:\n",
    "        if j == n:\n",
    "            print(j)\n",
    "\n",
    "    "
   ]
  },
  {
   "cell_type": "code",
   "execution_count": 7,
   "id": "164aa94a",
   "metadata": {
    "execution": {
     "iopub.execute_input": "2022-09-20T16:32:33.485202Z",
     "iopub.status.busy": "2022-09-20T16:32:33.484789Z",
     "iopub.status.idle": "2022-09-20T16:32:33.502666Z",
     "shell.execute_reply": "2022-09-20T16:32:33.501319Z"
    },
    "papermill": {
     "duration": 0.029167,
     "end_time": "2022-09-20T16:32:33.508659",
     "exception": false,
     "start_time": "2022-09-20T16:32:33.479492",
     "status": "completed"
    },
    "tags": []
   },
   "outputs": [
    {
     "data": {
      "text/html": [
       "<div>\n",
       "<style scoped>\n",
       "    .dataframe tbody tr th:only-of-type {\n",
       "        vertical-align: middle;\n",
       "    }\n",
       "\n",
       "    .dataframe tbody tr th {\n",
       "        vertical-align: top;\n",
       "    }\n",
       "\n",
       "    .dataframe thead th {\n",
       "        text-align: right;\n",
       "    }\n",
       "</style>\n",
       "<table border=\"1\" class=\"dataframe\">\n",
       "  <thead>\n",
       "    <tr style=\"text-align: right;\">\n",
       "      <th></th>\n",
       "      <th>Name</th>\n",
       "      <th>Author</th>\n",
       "      <th>User_Rating</th>\n",
       "      <th>Reviews</th>\n",
       "      <th>Price</th>\n",
       "      <th>Price_r</th>\n",
       "      <th>Year</th>\n",
       "      <th>Genre</th>\n",
       "      <th>People_Who_liked_the_novel</th>\n",
       "      <th>People_Who_disliked_the_novel</th>\n",
       "    </tr>\n",
       "  </thead>\n",
       "  <tbody>\n",
       "    <tr>\n",
       "      <th>483</th>\n",
       "      <td>The Hunger Games</td>\n",
       "      <td>Suzanne Collins</td>\n",
       "      <td>4.7</td>\n",
       "      <td>32122</td>\n",
       "      <td>14.0</td>\n",
       "      <td>14</td>\n",
       "      <td>2010</td>\n",
       "      <td>Fiction</td>\n",
       "      <td>30195.0</td>\n",
       "      <td>1927.0</td>\n",
       "    </tr>\n",
       "  </tbody>\n",
       "</table>\n",
       "</div>"
      ],
      "text/plain": [
       "                 Name           Author  User_Rating  Reviews  Price  Price_r  \\\n",
       "483  The Hunger Games  Suzanne Collins          4.7    32122   14.0       14   \n",
       "\n",
       "     Year    Genre  People_Who_liked_the_novel  People_Who_disliked_the_novel  \n",
       "483  2010  Fiction                     30195.0                         1927.0  "
      ]
     },
     "execution_count": 7,
     "metadata": {},
     "output_type": "execute_result"
    }
   ],
   "source": [
    "n = df[df[\"Year\"]==2010]\n",
    "n[n[\"People_Who_liked_the_novel\"]== n.People_Who_liked_the_novel.max()]"
   ]
  },
  {
   "cell_type": "code",
   "execution_count": 8,
   "id": "385f88f6",
   "metadata": {
    "execution": {
     "iopub.execute_input": "2022-09-20T16:32:33.529030Z",
     "iopub.status.busy": "2022-09-20T16:32:33.528502Z",
     "iopub.status.idle": "2022-09-20T16:32:33.539597Z",
     "shell.execute_reply": "2022-09-20T16:32:33.538283Z"
    },
    "papermill": {
     "duration": 0.027142,
     "end_time": "2022-09-20T16:32:33.542772",
     "exception": false,
     "start_time": "2022-09-20T16:32:33.515630",
     "status": "completed"
    },
    "tags": []
   },
   "outputs": [
    {
     "data": {
      "text/plain": [
       "7"
      ]
     },
     "execution_count": 8,
     "metadata": {},
     "output_type": "execute_result"
    }
   ],
   "source": [
    "len(str(2**20))"
   ]
  },
  {
   "cell_type": "code",
   "execution_count": null,
   "id": "851e4ecd",
   "metadata": {
    "papermill": {
     "duration": 0.004027,
     "end_time": "2022-09-20T16:32:33.552449",
     "exception": false,
     "start_time": "2022-09-20T16:32:33.548422",
     "status": "completed"
    },
    "tags": []
   },
   "outputs": [],
   "source": []
  }
 ],
 "metadata": {
  "kernelspec": {
   "display_name": "Python 3",
   "language": "python",
   "name": "python3"
  },
  "language_info": {
   "codemirror_mode": {
    "name": "ipython",
    "version": 3
   },
   "file_extension": ".py",
   "mimetype": "text/x-python",
   "name": "python",
   "nbconvert_exporter": "python",
   "pygments_lexer": "ipython3",
   "version": "3.7.12"
  },
  "papermill": {
   "default_parameters": {},
   "duration": 10.189838,
   "end_time": "2022-09-20T16:32:34.179404",
   "environment_variables": {},
   "exception": null,
   "input_path": "__notebook__.ipynb",
   "output_path": "__notebook__.ipynb",
   "parameters": {},
   "start_time": "2022-09-20T16:32:23.989566",
   "version": "2.3.4"
  }
 },
 "nbformat": 4,
 "nbformat_minor": 5
}
